{
 "cells": [
  {
   "cell_type": "markdown",
   "metadata": {},
   "source": [
    "# A simple client for the server-client demo\n",
    "\n",
    "Check [SocketIO-Client](https://python-socketio.readthedocs.io/en/latest/client.html) for more details.\n",
    "\n",
    "### Creating a Client Instance"
   ]
  },
  {
   "cell_type": "code",
   "execution_count": 1,
   "metadata": {},
   "outputs": [],
   "source": [
    "import socketio\n",
    "\n",
    "sio = socketio.Client(logger=True, engineio_logger=True)"
   ]
  },
  {
   "cell_type": "markdown",
   "metadata": {},
   "source": [
    "### Catch-All Event Handlers\n",
    "\n",
    "A “catch-all” event handler is invoked for any events that do not have an event handler. "
   ]
  },
  {
   "cell_type": "code",
   "execution_count": 2,
   "metadata": {},
   "outputs": [],
   "source": [
    "@sio.on('*')\n",
    "def catch_all(event, data):\n",
    "    pass"
   ]
  },
  {
   "cell_type": "markdown",
   "metadata": {},
   "source": [
    "### Connect, Connect Error and Disconnect Event Handlers\n",
    "\n",
    "The `connect`, `connect_error` and `disconnect` events are special; they are invoked automatically when a client connects or disconnects from the server:"
   ]
  },
  {
   "cell_type": "code",
   "execution_count": 3,
   "metadata": {},
   "outputs": [],
   "source": [
    "@sio.event\n",
    "def connect():\n",
    "    print(\"[CLIENT] I'm connected!\")\n",
    "\n",
    "@sio.event\n",
    "def connect_error(data):\n",
    "    print(\"[CLIENT] The connection failed!\")\n",
    "\n",
    "@sio.event\n",
    "def disconnect():\n",
    "    print(\"[CLIENT] I'm disconnected!\")"
   ]
  },
  {
   "cell_type": "markdown",
   "metadata": {},
   "source": [
    "### Connecting to a Server\n",
    "\n",
    "The connection to a server is established by calling the `connect` method. Upon connection, the server assigns the client a unique session identifier. The applicaction can find this identifier in the sid attribute.\n",
    "\n",
    "In our example, whenever the user clicks on the \"Send\" button in the webpage, a message is printed here saying a packet is received from the server with the string \"[SERVER-SSE] Hello World\". This is the same string which we emitted from the server in `server.py`. "
   ]
  },
  {
   "cell_type": "code",
   "execution_count": 4,
   "metadata": {},
   "outputs": [
    {
     "name": "stderr",
     "output_type": "stream",
     "text": [
      "Attempting polling connection to http://192.168.1.35:5000/socket.io/?transport=polling&EIO=4\n",
      "Polling connection accepted with {'sid': 'c0ODMTi17AmbAfeWAAAC', 'upgrades': ['websocket'], 'pingTimeout': 20000, 'pingInterval': 25000}\n",
      "Engine.IO connection established\n",
      "Sending packet MESSAGE data 0\n",
      "websocket-client package not installed, only polling transport is available\n",
      "Sending polling GET request to http://192.168.1.35:5000/socket.io/?transport=polling&EIO=4&sid=c0ODMTi17AmbAfeWAAAC\n",
      "Received packet MESSAGE data 0{\"sid\":\"NIRZpnUhzOxPjkyQAAAD\"}\n",
      "Namespace / is connected\n",
      "Sending polling GET request to http://192.168.1.35:5000/socket.io/?transport=polling&EIO=4&sid=c0ODMTi17AmbAfeWAAAC\n"
     ]
    },
    {
     "name": "stdout",
     "output_type": "stream",
     "text": [
      "[CLIENT] I'm connected!\n",
      "[CLIENT] my sid is c0ODMTi17AmbAfeWAAAC\n"
     ]
    },
    {
     "name": "stderr",
     "output_type": "stream",
     "text": [
      "Received packet MESSAGE data 2[\"sse event\",\"[SERVER-SSE] Hello World\"]\n",
      "Received event \"sse event\" [/]\n",
      "Sending polling GET request to http://192.168.1.35:5000/socket.io/?transport=polling&EIO=4&sid=c0ODMTi17AmbAfeWAAAC\n",
      "Received packet MESSAGE data 2[\"sse event\",\"[SERVER-SSE] Hello World\"]\n",
      "Received event \"sse event\" [/]\n",
      "Sending polling GET request to http://192.168.1.35:5000/socket.io/?transport=polling&EIO=4&sid=c0ODMTi17AmbAfeWAAAC\n",
      "Received packet MESSAGE data 2[\"sse event\",\"[SERVER-SSE] Hello World\"]\n",
      "Received event \"sse event\" [/]\n",
      "Sending polling GET request to http://192.168.1.35:5000/socket.io/?transport=polling&EIO=4&sid=c0ODMTi17AmbAfeWAAAC\n",
      "Received packet MESSAGE data 2[\"sse event\",\"[SERVER-SSE] Hello World\"]\n",
      "Received event \"sse event\" [/]\n",
      "Sending polling GET request to http://192.168.1.35:5000/socket.io/?transport=polling&EIO=4&sid=c0ODMTi17AmbAfeWAAAC\n",
      "Received packet MESSAGE data 2[\"sse event\",\"[SERVER-SSE] Hello World\"]\n",
      "Received event \"sse event\" [/]\n",
      "Sending polling GET request to http://192.168.1.35:5000/socket.io/?transport=polling&EIO=4&sid=c0ODMTi17AmbAfeWAAAC\n"
     ]
    }
   ],
   "source": [
    "sio.connect('http://192.168.1.35:5000')\n",
    "print('[CLIENT] my sid is', sio.sid)"
   ]
  },
  {
   "cell_type": "markdown",
   "metadata": {},
   "source": [
    "### Emitting Events\n",
    "\n",
    "The client can emit an event to the server using the `emit` method."
   ]
  },
  {
   "cell_type": "code",
   "execution_count": 5,
   "metadata": {},
   "outputs": [
    {
     "name": "stderr",
     "output_type": "stream",
     "text": [
      "Emitting event \"my message\" [/]\n",
      "Sending packet MESSAGE data 2[\"my message\",\"[CLIENT] Yo server!\"]\n",
      "Received packet MESSAGE data 2[\"my response\",\"[SERVER] Thanks for connecting!\"]\n",
      "Received event \"my response\" [/]\n",
      "Sending polling GET request to http://192.168.1.35:5000/socket.io/?transport=polling&EIO=4&sid=c0ODMTi17AmbAfeWAAAC\n",
      "Received packet PING data \n",
      "Sending packet PONG data \n",
      "Sending polling GET request to http://192.168.1.35:5000/socket.io/?transport=polling&EIO=4&sid=c0ODMTi17AmbAfeWAAAC\n"
     ]
    }
   ],
   "source": [
    "sio.emit('my message', data=\"[CLIENT] Yo server!\")"
   ]
  },
  {
   "cell_type": "markdown",
   "metadata": {},
   "source": [
    "### Disconnecting from the Server\n",
    "\n",
    "The client can request to be disconnected from the server by invoking the `disconnect` method."
   ]
  },
  {
   "cell_type": "code",
   "execution_count": 6,
   "metadata": {},
   "outputs": [
    {
     "name": "stderr",
     "output_type": "stream",
     "text": [
      "Sending packet MESSAGE data 1\n",
      "Sending packet CLOSE data None\n",
      "Engine.IO connection dropped\n"
     ]
    },
    {
     "name": "stdout",
     "output_type": "stream",
     "text": [
      "[CLIENT] I'm disconnected!\n"
     ]
    },
    {
     "name": "stderr",
     "output_type": "stream",
     "text": [
      "Exiting write loop task\n",
      "Received packet PING data \n",
      "Waiting for write loop task to end\n",
      "Exiting read loop task\n"
     ]
    }
   ],
   "source": [
    "sio.disconnect()"
   ]
  },
  {
   "cell_type": "code",
   "execution_count": null,
   "metadata": {},
   "outputs": [],
   "source": []
  }
 ],
 "metadata": {
  "kernelspec": {
   "display_name": "Python 3",
   "language": "python",
   "name": "python3"
  },
  "language_info": {
   "codemirror_mode": {
    "name": "ipython",
    "version": 3
   },
   "file_extension": ".py",
   "mimetype": "text/x-python",
   "name": "python",
   "nbconvert_exporter": "python",
   "pygments_lexer": "ipython3",
   "version": "3.9.10"
  }
 },
 "nbformat": 4,
 "nbformat_minor": 2
}
