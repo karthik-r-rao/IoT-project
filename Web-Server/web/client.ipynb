{
 "cells": [
  {
   "cell_type": "code",
   "execution_count": 25,
   "metadata": {},
   "outputs": [],
   "source": [
    "import socketio\n",
    "\n",
    "sio = socketio.Client(logger=True, engineio_logger=True)"
   ]
  },
  {
   "cell_type": "code",
   "execution_count": 26,
   "metadata": {},
   "outputs": [],
   "source": [
    "@sio.event\n",
    "def message(data):\n",
    "    print('[CLIENT] I received a message!')"
   ]
  },
  {
   "cell_type": "code",
   "execution_count": 27,
   "metadata": {},
   "outputs": [],
   "source": [
    "@sio.on('*')\n",
    "def catch_all(event, data):\n",
    "    pass"
   ]
  },
  {
   "cell_type": "code",
   "execution_count": 28,
   "metadata": {},
   "outputs": [],
   "source": [
    "@sio.event\n",
    "def connect():\n",
    "    print(\"[CLIENT] I'm connected!\")\n",
    "\n",
    "@sio.event\n",
    "def connect_error(data):\n",
    "    print(\"[CLIENT] The connection failed!\")\n",
    "\n",
    "@sio.event\n",
    "def disconnect():\n",
    "    print(\"[CLIENT] I'm disconnected!\")"
   ]
  },
  {
   "cell_type": "code",
   "execution_count": 29,
   "metadata": {},
   "outputs": [
    {
     "name": "stderr",
     "output_type": "stream",
     "text": [
      "Attempting polling connection to http://192.168.1.35:5000/socket.io/?transport=polling&EIO=4\n",
      "Polling connection accepted with {'sid': 'BTO7aZpYqoK2OvdUAAAA', 'upgrades': ['websocket'], 'pingTimeout': 20000, 'pingInterval': 25000}\n",
      "Engine.IO connection established\n",
      "Sending packet MESSAGE data 0\n",
      "Attempting WebSocket upgrade to ws://192.168.1.35:5000/socket.io/?transport=websocket&EIO=4\n",
      "WebSocket upgrade was successful\n",
      "Received packet NOOP data \n",
      "Received packet MESSAGE data 0{\"sid\":\"L7xKvzg6Y7YJjNAXAAAB\"}\n",
      "Namespace / is connected\n",
      "Emitting event \"my message\" [/]\n",
      "Sending packet MESSAGE data 2[\"my message\",\"Yo server!\"]\n"
     ]
    },
    {
     "name": "stdout",
     "output_type": "stream",
     "text": [
      "[CLIENT] I'm connected!\n",
      "[CLIENT] my sid is BTO7aZpYqoK2OvdUAAAA\n"
     ]
    },
    {
     "name": "stderr",
     "output_type": "stream",
     "text": [
      "Received packet MESSAGE data 2[\"my response\",\"Thanks for connecting!\"]\n",
      "Received event \"my response\" [/]\n"
     ]
    }
   ],
   "source": [
    "sio.connect('http://192.168.1.35:5000')\n",
    "print('[CLIENT] my sid is', sio.sid)\n",
    "sio.emit('my message', data=\"Yo server!\")"
   ]
  },
  {
   "cell_type": "code",
   "execution_count": 30,
   "metadata": {},
   "outputs": [
    {
     "name": "stderr",
     "output_type": "stream",
     "text": [
      "Sending packet MESSAGE data 1\n",
      "Sending packet CLOSE data None\n",
      "Engine.IO connection dropped\n",
      "Exiting write loop task\n",
      "Unexpected error decoding packet: \"string index out of range\", aborting\n",
      "Waiting for write loop task to end\n"
     ]
    },
    {
     "name": "stdout",
     "output_type": "stream",
     "text": [
      "[CLIENT] I'm disconnected!\n"
     ]
    },
    {
     "name": "stderr",
     "output_type": "stream",
     "text": [
      "Exiting read loop task\n"
     ]
    }
   ],
   "source": [
    "sio.disconnect()"
   ]
  },
  {
   "cell_type": "code",
   "execution_count": null,
   "metadata": {},
   "outputs": [],
   "source": []
  }
 ],
 "metadata": {
  "kernelspec": {
   "display_name": "Python 3",
   "language": "python",
   "name": "python3"
  },
  "language_info": {
   "codemirror_mode": {
    "name": "ipython",
    "version": 3
   },
   "file_extension": ".py",
   "mimetype": "text/x-python",
   "name": "python",
   "nbconvert_exporter": "python",
   "pygments_lexer": "ipython3",
   "version": "3.6.5"
  }
 },
 "nbformat": 4,
 "nbformat_minor": 2
}
